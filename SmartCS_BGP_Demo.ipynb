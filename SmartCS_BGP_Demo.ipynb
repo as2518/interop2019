{
 "cells": [
  {
   "cell_type": "markdown",
   "metadata": {},
   "source": [
    "# BGPピア閉塞デモ"
   ]
  },
  {
   "cell_type": "markdown",
   "metadata": {},
   "source": [
    "# [1]Inventoryの情報を定義"
   ]
  },
  {
   "cell_type": "code",
   "execution_count": 1,
   "metadata": {},
   "outputs": [],
   "source": [
    "#inventory\n",
    "[NS2250]\n",
    "XXX.XXX.XXX.XXX\n",
    "\n",
    "[NS2250:vars]\n",
    "ansible_ssh_user=admin\n",
    "ansible_ssh_pass=XXXX\n",
    "ansible_connection=network_cli\n",
    "ansible_network_os=smartcs\n",
    "ansible_command_timeout=60"
   ]
  },
  {
   "cell_type": "markdown",
   "metadata": {},
   "source": [
    "# [2]環境変数(Timeout値、sshkeyのチェック無効化の設定)"
   ]
  },
  {
   "cell_type": "code",
   "execution_count": 2,
   "metadata": {},
   "outputs": [],
   "source": [
    "#ansible.cfg\n",
    "[persistent_connection]\n",
    "command_timeout = 360\n",
    "connect_timeout = 360\n",
    "connect_retry_timeout = 360\n",
    "\n",
    "[defaults]\n",
    "host_key_checking=False"
   ]
  },
  {
   "cell_type": "markdown",
   "metadata": {},
   "source": [
    "# [3]varsファイルの定義(対象NW機器の情報)"
   ]
  },
  {
   "cell_type": "code",
   "execution_count": 3,
   "metadata": {},
   "outputs": [],
   "source": [
    "#vars var\n",
    "iosxr:\n",
    "  tty: 1\n",
    "  user: admin\n",
    "  password: XXXX\n",
    "localas: 64540\n",
    "neighbor: 172.16.1.10"
   ]
  },
  {
   "cell_type": "markdown",
   "metadata": {},
   "source": [
    "# [4]Playbookの実行"
   ]
  },
  {
   "cell_type": "code",
   "execution_count": 4,
   "metadata": {},
   "outputs": [
    {
     "name": "stdout",
     "output_type": "stream",
     "text": [
      "\n"
     ]
    }
   ],
   "source": [
    "#play\n",
    "hosts: NS2250\n",
    "gather_facts: no\n",
    "vars_files:\n",
    "    - var"
   ]
  },
  {
   "cell_type": "markdown",
   "metadata": {},
   "source": [
    "# [5]Taskの実行(ログインプロンプトに戻ってない場合の処理)"
   ]
  },
  {
   "cell_type": "code",
   "execution_count": 5,
   "metadata": {},
   "outputs": [
    {
     "name": "stdout",
     "output_type": "stream",
     "text": [
      "TASK [test] ********************************************************************\n"
     ]
    }
   ],
   "source": [
    "#task\n",
    "name: test\n",
    "smartcs_tty_command:\n",
    "  tty: \"{{ iosxr.tty }}\"\n",
    "  nl: cr\n",
    "  cmd_timeout: 5\n",
    "  sendchar:\n",
    "  - __NL__\n",
    "  - exit\n",
    "  cmd_timeout_onfail: no\n",
    "register: result"
   ]
  },
  {
   "cell_type": "markdown",
   "metadata": {},
   "source": [
    "# [6] [5]の実行結果表示"
   ]
  },
  {
   "cell_type": "code",
   "execution_count": 6,
   "metadata": {},
   "outputs": [
    {
     "name": "stdout",
     "output_type": "stream",
     "text": [
      "TASK [debug] *******************************************************************\n",
      "ok: [XXX.XXX.XXX.XXX] => {\n",
      "    \"result[\\\"stdout\\\"]\": [\n",
      "        \"\", \n",
      "        \"\", \n",
      "        \"\", \n",
      "        \"\", \n",
      "        \"User Access Verification\\n\\n\\n\\nUsername: \\nError: Timeout.\", \n",
      "        \"exit\\n\\n\\nPassword: \\nError: Timeout.\"\n",
      "    ]\n",
      "}\n"
     ]
    }
   ],
   "source": [
    "debug: var=result[\"stdout\"]"
   ]
  },
  {
   "cell_type": "markdown",
   "metadata": {},
   "source": [
    "# [7]Taskの実行(ログイン)"
   ]
  },
  {
   "cell_type": "code",
   "execution_count": 7,
   "metadata": {},
   "outputs": [
    {
     "name": "stdout",
     "output_type": "stream",
     "text": [
      "TASK [ios-xr login] ************************************************************\n"
     ]
    }
   ],
   "source": [
    "#task\n",
    "name: ios-xr login\n",
    "smartcs_tty_command:\n",
    "  tty:  \"{{ iosxr.tty }}\"\n",
    "  nl: cr\n",
    "  cmd_timeout: 10\n",
    "  recvchar_regex:\n",
    "  - \"Username:\"\n",
    "  - \"Password:\"\n",
    "  - \"#\"\n",
    "  sendchar:\n",
    "  - __NL__\n",
    "  - \"{{ iosxr.user }}\"\n",
    "  - \"{{ iosxr.password }}\"\n",
    "  - terminal length 0\n",
    "  cmd_timeout_onfail: no\n",
    "register: result"
   ]
  },
  {
   "cell_type": "markdown",
   "metadata": {},
   "source": [
    "# [8] [7]の実行結果表示"
   ]
  },
  {
   "cell_type": "code",
   "execution_count": 8,
   "metadata": {},
   "outputs": [
    {
     "name": "stdout",
     "output_type": "stream",
     "text": [
      "TASK [show task result] ********************************************************\n",
      "ok: [XXX.XXX.XXX.XXX] => {\n",
      "    \"result[\\\"stdout_lines\\\"]\": [\n",
      "        [\n",
      "            \"\"\n",
      "        ], \n",
      "        [\n",
      "            \"\"\n",
      "        ], \n",
      "        [\n",
      "            \"\"\n",
      "        ], \n",
      "        [\n",
      "            \"waitregex> Username:\"\n",
      "        ], \n",
      "        [\n",
      "            \"waitregex> Password:\"\n",
      "        ], \n",
      "        [\n",
      "            \"waitregex> #\"\n",
      "        ], \n",
      "        [\n",
      "            \"\"\n",
      "        ], \n",
      "        [\n",
      "            \"RP/0/RSP0/CPU0:Mar  7 17:29:00.875 : exec[65777]: %SECURITY-login-4-AUTHEN_FAILED : Failed authentication attempt by user 'exit' from 'console' on 'con0_RSP0_CPU0' \", \n",
      "            \"\", \n",
      "            \"\", \n",
      "            \"\", \n",
      "            \"User Access Verification\", \n",
      "            \"\", \n",
      "            \"\", \n",
      "            \"\", \n",
      "            \"Username:\"\n",
      "        ], \n",
      "        [\n",
      "            \"admin\", \n",
      "            \"\", \n",
      "            \"\", \n",
      "            \"Password:\"\n",
      "        ], \n",
      "        [\n",
      "            \"RP/0/RSP0/CPU0:Hyoka-XXXX#\"\n",
      "        ], \n",
      "        [\n",
      "            \"terminal length 0\", \n",
      "            \"\", \n",
      "            \"\", \n",
      "            \"Thu Mar  7 17:29:03.830 JST\", \n",
      "            \"\", \n",
      "            \"RP/0/RSP0/CPU0:Hyoka-XXXX#\"\n",
      "        ]\n",
      "    ]\n",
      "}\n"
     ]
    }
   ],
   "source": [
    "name: show task result\n",
    "debug: var=result[\"stdout_lines\"]"
   ]
  },
  {
   "cell_type": "markdown",
   "metadata": {},
   "source": [
    "# [9] Taskの実行(show bgp summaryの投入)"
   ]
  },
  {
   "cell_type": "code",
   "execution_count": 9,
   "metadata": {},
   "outputs": [
    {
     "name": "stdout",
     "output_type": "stream",
     "text": [
      "TASK [show bgp summary] ********************************************************\n"
     ]
    }
   ],
   "source": [
    "#task\n",
    "name: show bgp summary\n",
    "smartcs_tty_command:\n",
    "  tty: \"{{ iosxr.tty }}\"\n",
    "  nl: cr\n",
    "  cmd_timeout: 60\n",
    "  recvchar_regex:\n",
    "  - \"#\"\n",
    "  sendchar:\n",
    "  - \"show bgp summary\"\n",
    "  cmd_timeout_onfail: no\n",
    "register: result"
   ]
  },
  {
   "cell_type": "markdown",
   "metadata": {},
   "source": [
    "# [10] [9]の実行結果 UpしているNeighborが存在することを確認"
   ]
  },
  {
   "cell_type": "code",
   "execution_count": 10,
   "metadata": {},
   "outputs": [
    {
     "name": "stdout",
     "output_type": "stream",
     "text": [
      "TASK [show task result] ********************************************************\n",
      "ok: [XXX.XXX.XXX.XXX] => {\n",
      "    \"result[\\\"stdout_lines\\\"][-1]\": [\n",
      "        \"show bgp summary\", \n",
      "        \"\", \n",
      "        \"\", \n",
      "        \"Thu Mar  7 17:29:34.492 JST\", \n",
      "        \"\", \n",
      "        \"BGP router identifier 172.16.1.2, local AS number 64540\", \n",
      "        \"\", \n",
      "        \"BGP generic scan interval 60 secs\", \n",
      "        \"\", \n",
      "        \"BGP table state: Active\", \n",
      "        \"\", \n",
      "        \"Table ID: 0xe0000000   RD version: 8\", \n",
      "        \"\", \n",
      "        \"BGP main routing table version 8\", \n",
      "        \"\", \n",
      "        \"BGP scan interval 60 secs\", \n",
      "        \"\", \n",
      "        \"\", \n",
      "        \"\", \n",
      "        \"BGP is operating in STANDALONE mode.\", \n",
      "        \"\", \n",
      "        \"\", \n",
      "        \"\", \n",
      "        \"\", \n",
      "        \"\", \n",
      "        \"Process       RcvTblVer   bRIB/RIB   LabelVer  ImportVer  SendTblVer  StandbyVer\", \n",
      "        \"\", \n",
      "        \"Speaker               8          8          8          8           8           8\", \n",
      "        \"\", \n",
      "        \"\", \n",
      "        \"\", \n",
      "        \"Neighbor        Spk    AS MsgRcvd MsgSent   TblVer  InQ OutQ  Up/Down  St/PfxRcd\", \n",
      "        \"\", \n",
      "        \"172.16.1.10       0 64540      78      79        8    0    0 00:03:21          0\", \n",
      "        \"\", \n",
      "        \"\", \n",
      "        \"\", \n",
      "        \"RP/0/RSP0/CPU0:Hyoka-XXXX#\"\n",
      "    ]\n",
      "}\n"
     ]
    }
   ],
   "source": [
    "name: show task result\n",
    "debug: var=result[\"stdout_lines\"][-1]"
   ]
  },
  {
   "cell_type": "markdown",
   "metadata": {},
   "source": [
    "# [11] configureモードに変更"
   ]
  },
  {
   "cell_type": "code",
   "execution_count": 11,
   "metadata": {},
   "outputs": [
    {
     "name": "stdout",
     "output_type": "stream",
     "text": [
      "TASK [configure] ***************************************************************\n"
     ]
    }
   ],
   "source": [
    "#task\n",
    "name: configure\n",
    "smartcs_tty_command:\n",
    "  tty: \"{{ iosxr.tty }}\"\n",
    "  nl: cr\n",
    "  cmd_timeout: 5\n",
    "  recvchar_regex:\n",
    "  - \"#\"\n",
    "  - \"#\"\n",
    "  sendchar:\n",
    "  - configure\n",
    "  cmd_timeout_onfail: no\n",
    "register: result"
   ]
  },
  {
   "cell_type": "markdown",
   "metadata": {},
   "source": [
    "# [12] [11]の実行結果"
   ]
  },
  {
   "cell_type": "code",
   "execution_count": 12,
   "metadata": {},
   "outputs": [
    {
     "name": "stdout",
     "output_type": "stream",
     "text": [
      "TASK [show task result] ********************************************************\n",
      "ok: [XXX.XXX.XXX.XXX] => {\n",
      "    \"result[\\\"stdout_lines\\\"]\": [\n",
      "        [\n",
      "            \"\"\n",
      "        ], \n",
      "        [\n",
      "            \"\"\n",
      "        ], \n",
      "        [\n",
      "            \"\"\n",
      "        ], \n",
      "        [\n",
      "            \"waitregex> #\"\n",
      "        ], \n",
      "        [\n",
      "            \"waitregex> #\"\n",
      "        ], \n",
      "        [\n",
      "            \"\"\n",
      "        ], \n",
      "        [\n",
      "            \"configure\", \n",
      "            \"\", \n",
      "            \"\", \n",
      "            \"Thu Mar  7 17:29:54.998 JST\", \n",
      "            \"\", \n",
      "            \"RP/0/RSP0/CPU0:Hyoka-XXXX(config)#\"\n",
      "        ]\n",
      "    ]\n",
      "}\n"
     ]
    }
   ],
   "source": [
    "name: show task result\n",
    "debug: var=result[\"stdout_lines\"]"
   ]
  },
  {
   "cell_type": "markdown",
   "metadata": {},
   "source": [
    "# [13] bgp neigborのshutdown実行"
   ]
  },
  {
   "cell_type": "code",
   "execution_count": 13,
   "metadata": {},
   "outputs": [
    {
     "name": "stdout",
     "output_type": "stream",
     "text": [
      "TASK [- \"router bgp 64540\"\n",
      "- \"neighbor 172.16.1.10 shutdown\"\n",
      "] *****************\n"
     ]
    }
   ],
   "source": [
    "#task\n",
    "name: |\n",
    "  - \"router bgp {{ localas }}\"\n",
    "  - \"neighbor {{ neighbor }} shutdown\"\n",
    "smartcs_tty_command:\n",
    "  tty: \"{{ iosxr.tty }}\"\n",
    "  nl: cr\n",
    "  cmd_timeout: 5\n",
    "  recvchar_regex:\n",
    "  - \"#\"\n",
    "  - \"#\"\n",
    "  - \"#\"\n",
    "  - \"#\"\n",
    "  - \"#\"\n",
    "  sendchar:\n",
    "  - \"router bgp {{ localas }}\"\n",
    "  - \"neighbor {{ neighbor }} shutdown\"\n",
    "  - commit\n",
    "  - exit\n",
    "  - exit\n",
    "  cmd_timeout_onfail: no\n",
    "register: result"
   ]
  },
  {
   "cell_type": "markdown",
   "metadata": {},
   "source": [
    "# [14] [13]の実行結果"
   ]
  },
  {
   "cell_type": "code",
   "execution_count": 14,
   "metadata": {},
   "outputs": [
    {
     "name": "stdout",
     "output_type": "stream",
     "text": [
      "TASK [show task result] ********************************************************\n",
      "ok: [XXX.XXX.XXX.XXX] => {\n",
      "    \"result[\\\"stdout_lines\\\"]\": [\n",
      "        [\n",
      "            \"\"\n",
      "        ], \n",
      "        [\n",
      "            \"\"\n",
      "        ], \n",
      "        [\n",
      "            \"\"\n",
      "        ], \n",
      "        [\n",
      "            \"waitregex> #\"\n",
      "        ], \n",
      "        [\n",
      "            \"waitregex> #\"\n",
      "        ], \n",
      "        [\n",
      "            \"waitregex> #\"\n",
      "        ], \n",
      "        [\n",
      "            \"waitregex> #\"\n",
      "        ], \n",
      "        [\n",
      "            \"waitregex> #\"\n",
      "        ], \n",
      "        [\n",
      "            \"\"\n",
      "        ], \n",
      "        [\n",
      "            \"router bgp 64540\", \n",
      "            \"\", \n",
      "            \"\", \n",
      "            \"RP/0/RSP0/CPU0:Hyoka-XXXX(config-bgp)#\"\n",
      "        ], \n",
      "        [\n",
      "            \"neighbor 172.16.1.10 shutdown\", \n",
      "            \"\", \n",
      "            \"\", \n",
      "            \"RP/0/RSP0/CPU0:Hyoka-XXXX(config-bgp)#\"\n",
      "        ], \n",
      "        [\n",
      "            \"commit\", \n",
      "            \"\", \n",
      "            \"\", \n",
      "            \"Thu Mar  7 17:30:13.239 JST\", \n",
      "            \"\", \n",
      "            \"RP/0/RSP0/CPU0:Hyoka-XXXX(config-bgp)#\"\n",
      "        ], \n",
      "        [\n",
      "            \"exit\", \n",
      "            \"\", \n",
      "            \"\", \n",
      "            \"RP/0/RSP0/CPU0:Hyoka-XXXX(config)#\"\n",
      "        ], \n",
      "        [\n",
      "            \"exit\", \n",
      "            \"\", \n",
      "            \"\", \n",
      "            \"RP/0/RSP0/CPU0:Hyoka-XXXX#\"\n",
      "        ]\n",
      "    ]\n",
      "}\n"
     ]
    }
   ],
   "source": [
    "name: show task result\n",
    "debug: var=result[\"stdout_lines\"]"
   ]
  },
  {
   "cell_type": "markdown",
   "metadata": {},
   "source": [
    "# [15] Taskの実行(show bgp summaryの投入)"
   ]
  },
  {
   "cell_type": "code",
   "execution_count": 15,
   "metadata": {},
   "outputs": [
    {
     "name": "stdout",
     "output_type": "stream",
     "text": [
      "TASK [show bgp summary] ********************************************************\n"
     ]
    }
   ],
   "source": [
    "#task\n",
    "name: show bgp summary\n",
    "smartcs_tty_command:\n",
    "  tty: \"{{ iosxr.tty }}\"\n",
    "  nl: cr\n",
    "  cmd_timeout: 60\n",
    "  recvchar_regex:\n",
    "  - \"#\"\n",
    "  sendchar:\n",
    "  - \"show bgp summary\"\n",
    "  cmd_timeout_onfail: no\n",
    "register: result"
   ]
  },
  {
   "cell_type": "markdown",
   "metadata": {},
   "source": [
    "# [16] [15]の実行結果 admin Idleしていることを確認"
   ]
  },
  {
   "cell_type": "code",
   "execution_count": 16,
   "metadata": {},
   "outputs": [
    {
     "name": "stdout",
     "output_type": "stream",
     "text": [
      "TASK [show task result] ********************************************************\n",
      "ok: [XXX.XXX.XXX.XXX] => {\n",
      "    \"result[\\\"stdout_lines\\\"]\": [\n",
      "        [\n",
      "            \"\"\n",
      "        ], \n",
      "        [\n",
      "            \"\"\n",
      "        ], \n",
      "        [\n",
      "            \"\"\n",
      "        ], \n",
      "        [\n",
      "            \"waitregex> #\"\n",
      "        ], \n",
      "        [\n",
      "            \"\"\n",
      "        ], \n",
      "        [\n",
      "            \"show bgp summary\", \n",
      "            \"\", \n",
      "            \"\", \n",
      "            \"Thu Mar  7 17:30:35.258 JST\", \n",
      "            \"\", \n",
      "            \"BGP router identifier 172.16.1.2, local AS number 64540\", \n",
      "            \"\", \n",
      "            \"BGP generic scan interval 60 secs\", \n",
      "            \"\", \n",
      "            \"BGP table state: Active\", \n",
      "            \"\", \n",
      "            \"Table ID: 0xe0000000   RD version: 8\", \n",
      "            \"\", \n",
      "            \"BGP main routing table version 8\", \n",
      "            \"\", \n",
      "            \"BGP scan interval 60 secs\", \n",
      "            \"\", \n",
      "            \"\", \n",
      "            \"\", \n",
      "            \"BGP is operating in STANDALONE mode.\", \n",
      "            \"\", \n",
      "            \"\", \n",
      "            \"\", \n",
      "            \"\", \n",
      "            \"\", \n",
      "            \"Process       RcvTblVer   bRIB/RIB   LabelVer  ImportVer  SendTblVer  StandbyVer\", \n",
      "            \"\", \n",
      "            \"Speaker               8          8          8          8           8           8\", \n",
      "            \"\", \n",
      "            \"\", \n",
      "            \"\", \n",
      "            \"Neighbor        Spk    AS MsgRcvd MsgSent   TblVer  InQ OutQ  Up/Down  St/PfxRcd\", \n",
      "            \"\", \n",
      "            \"172.16.1.10       0 64540      79      81        0    0    0 00:00:20 Idle (Admin)\", \n",
      "            \"\", \n",
      "            \"\", \n",
      "            \"\", \n",
      "            \"RP/0/RSP0/CPU0:Hyoka-XXXX#\"\n",
      "        ]\n",
      "    ]\n",
      "}\n"
     ]
    }
   ],
   "source": [
    "name: show task result\n",
    "debug: var=result[\"stdout_lines\"]"
   ]
  },
  {
   "cell_type": "markdown",
   "metadata": {},
   "source": [
    "# [17] Taskの実行(exit処理)"
   ]
  },
  {
   "cell_type": "code",
   "execution_count": 17,
   "metadata": {},
   "outputs": [
    {
     "name": "stdout",
     "output_type": "stream",
     "text": [
      "TASK [Exit] ********************************************************************\n"
     ]
    }
   ],
   "source": [
    "#task\n",
    "name: Exit\n",
    "smartcs_tty_command:\n",
    "  tty: \"{{ iosxr.tty }}\"\n",
    "  nl: cr\n",
    "  cmd_timeout: 5\n",
    "  recvchar_regex:\n",
    "  - \"#\"\n",
    "  sendchar:\n",
    "  - __NL__\n",
    "  - exit\n",
    "  cmd_timeout_onfail: no\n",
    "register: result"
   ]
  },
  {
   "cell_type": "markdown",
   "metadata": {},
   "source": [
    "# [18] [17]の実行結果"
   ]
  },
  {
   "cell_type": "code",
   "execution_count": 18,
   "metadata": {},
   "outputs": [
    {
     "name": "stdout",
     "output_type": "stream",
     "text": [
      "TASK [show task result] ********************************************************\n",
      "ok: [XXX.XXX.XXX.XXX] => {\n",
      "    \"result[\\\"stdout_lines\\\"]\": [\n",
      "        [\n",
      "            \"\"\n",
      "        ], \n",
      "        [\n",
      "            \"\"\n",
      "        ], \n",
      "        [\n",
      "            \"\"\n",
      "        ], \n",
      "        [\n",
      "            \"waitregex> #\"\n",
      "        ], \n",
      "        [\n",
      "            \"\"\n",
      "        ], \n",
      "        [\n",
      "            \"RP/0/RSP0/CPU0:Hyoka-XXXX#\"\n",
      "        ], \n",
      "        [\n",
      "            \"exit\", \n",
      "            \"\", \n",
      "            \"\", \n",
      "            \"\", \n",
      "            \"\", \n",
      "            \"\", \n",
      "            \"\", \n",
      "            \"\", \n",
      "            \"\", \n",
      "            \"\", \n",
      "            \"\", \n",
      "            \"\", \n",
      "            \"\", \n",
      "            \"\", \n",
      "            \"\", \n",
      "            \"\", \n",
      "            \"\", \n",
      "            \"\", \n",
      "            \"\", \n",
      "            \"\", \n",
      "            \"\", \n",
      "            \"\", \n",
      "            \"\", \n",
      "            \"\", \n",
      "            \"\", \n",
      "            \"\", \n",
      "            \"\", \n",
      "            \"\", \n",
      "            \"\", \n",
      "            \"\", \n",
      "            \"\", \n",
      "            \"\", \n",
      "            \"\", \n",
      "            \"\", \n",
      "            \"\", \n",
      "            \"\", \n",
      "            \"\", \n",
      "            \"\", \n",
      "            \"\", \n",
      "            \"\", \n",
      "            \"\", \n",
      "            \"\", \n",
      "            \"\", \n",
      "            \"\", \n",
      "            \"\", \n",
      "            \"\", \n",
      "            \"\", \n",
      "            \"\", \n",
      "            \"\", \n",
      "            \"\", \n",
      "            \"\", \n",
      "            \"\", \n",
      "            \"\", \n",
      "            \"\", \n",
      "            \"\", \n",
      "            \"\", \n",
      "            \"\", \n",
      "            \"\", \n",
      "            \"\", \n",
      "            \"\", \n",
      "            \"\", \n",
      "            \"\", \n",
      "            \"\", \n",
      "            \"\", \n",
      "            \"\", \n",
      "            \"\", \n",
      "            \"\", \n",
      "            \"\", \n",
      "            \"\", \n",
      "            \"\", \n",
      "            \"\", \n",
      "            \"\", \n",
      "            \"\", \n",
      "            \"\", \n",
      "            \"\", \n",
      "            \"\", \n",
      "            \"\", \n",
      "            \"\", \n",
      "            \"\", \n",
      "            \"\", \n",
      "            \"\", \n",
      "            \"\", \n",
      "            \"\", \n",
      "            \"\", \n",
      "            \"\", \n",
      "            \"\", \n",
      "            \"\", \n",
      "            \"\", \n",
      "            \"\", \n",
      "            \"\", \n",
      "            \"\", \n",
      "            \"\", \n",
      "            \"\", \n",
      "            \"\", \n",
      "            \"\", \n",
      "            \"\", \n",
      "            \"\", \n",
      "            \"\", \n",
      "            \"\", \n",
      "            \"\", \n",
      "            \"\", \n",
      "            \"\", \n",
      "            \"\", \n",
      "            \"\", \n",
      "            \"\", \n",
      "            \"\", \n",
      "            \"\", \n",
      "            \"\", \n",
      "            \"\", \n",
      "            \"\", \n",
      "            \"\", \n",
      "            \"\", \n",
      "            \"\", \n",
      "            \"\", \n",
      "            \"\", \n",
      "            \"\", \n",
      "            \"\", \n",
      "            \"\", \n",
      "            \"\", \n",
      "            \"\", \n",
      "            \"\", \n",
      "            \"\", \n",
      "            \"\", \n",
      "            \"\", \n",
      "            \"\", \n",
      "            \"\", \n",
      "            \"\", \n",
      "            \"\", \n",
      "            \"\", \n",
      "            \"\", \n",
      "            \"\", \n",
      "            \"\", \n",
      "            \"\", \n",
      "            \"\", \n",
      "            \"\", \n",
      "            \"\", \n",
      "            \"\", \n",
      "            \"\", \n",
      "            \"\", \n",
      "            \"\", \n",
      "            \"\", \n",
      "            \"\", \n",
      "            \"\", \n",
      "            \"\", \n",
      "            \"\", \n",
      "            \"\", \n",
      "            \"\", \n",
      "            \"\", \n",
      "            \"\", \n",
      "            \"\", \n",
      "            \"\", \n",
      "            \"\", \n",
      "            \"\", \n",
      "            \"\", \n",
      "            \"\", \n",
      "            \"\", \n",
      "            \"\", \n",
      "            \"\", \n",
      "            \"\", \n",
      "            \"\", \n",
      "            \"\", \n",
      "            \"\", \n",
      "            \"\", \n",
      "            \"\", \n",
      "            \"\", \n",
      "            \"\", \n",
      "            \"\", \n",
      "            \"\", \n",
      "            \"\", \n",
      "            \"\", \n",
      "            \"\", \n",
      "            \"\", \n",
      "            \"\", \n",
      "            \"\", \n",
      "            \"\", \n",
      "            \"\", \n",
      "            \"\", \n",
      "            \"\", \n",
      "            \"\", \n",
      "            \"\", \n",
      "            \"\", \n",
      "            \"\", \n",
      "            \"\", \n",
      "            \"\", \n",
      "            \"\", \n",
      "            \"\", \n",
      "            \"\", \n",
      "            \"\", \n",
      "            \"\", \n",
      "            \"\", \n",
      "            \"\", \n",
      "            \"\", \n",
      "            \"\", \n",
      "            \"\", \n",
      "            \"\", \n",
      "            \"\", \n",
      "            \"\", \n",
      "            \"\", \n",
      "            \"\", \n",
      "            \"\", \n",
      "            \"\", \n",
      "            \"\", \n",
      "            \"\", \n",
      "            \"\", \n",
      "            \"\", \n",
      "            \"\", \n",
      "            \"\", \n",
      "            \"\", \n",
      "            \"\", \n",
      "            \"\", \n",
      "            \"\", \n",
      "            \"\", \n",
      "            \"\", \n",
      "            \"\", \n",
      "            \"\", \n",
      "            \"\", \n",
      "            \"\", \n",
      "            \"\", \n",
      "            \"\", \n",
      "            \"\", \n",
      "            \"\", \n",
      "            \"\", \n",
      "            \"\", \n",
      "            \"\", \n",
      "            \"\", \n",
      "            \"\", \n",
      "            \"\", \n",
      "            \"\", \n",
      "            \"\", \n",
      "            \"\", \n",
      "            \"\", \n",
      "            \"\", \n",
      "            \"\", \n",
      "            \"\", \n",
      "            \"\", \n",
      "            \"\", \n",
      "            \"\", \n",
      "            \"\", \n",
      "            \"\", \n",
      "            \"\", \n",
      "            \"\", \n",
      "            \"\", \n",
      "            \"\", \n",
      "            \"\", \n",
      "            \"\", \n",
      "            \"\", \n",
      "            \"\", \n",
      "            \"\", \n",
      "            \"\", \n",
      "            \"\", \n",
      "            \"\", \n",
      "            \"\", \n",
      "            \"\", \n",
      "            \"\", \n",
      "            \"\", \n",
      "            \"\", \n",
      "            \"\", \n",
      "            \"\", \n",
      "            \"\", \n",
      "            \"\", \n",
      "            \"\", \n",
      "            \"\", \n",
      "            \"\", \n",
      "            \"Hyoka-XXXX con0/RSP0/CPU0 is now available\", \n",
      "            \"\", \n",
      "            \"\", \n",
      "            \"\", \n",
      "            \"\", \n",
      "            \"\", \n",
      "            \"\", \n",
      "            \"\", \n",
      "            \"\", \n",
      "            \"\", \n",
      "            \"\", \n",
      "            \"\", \n",
      "            \"Press RETURN to get started.\", \n",
      "            \"\", \n",
      "            \"\", \n",
      "            \"\", \n",
      "            \"\", \n",
      "            \"Error: Timeout.\"\n",
      "        ]\n",
      "    ]\n",
      "}\n"
     ]
    }
   ],
   "source": [
    "name: show task result\n",
    "debug: var=result[\"stdout_lines\"]"
   ]
  },
  {
   "cell_type": "code",
   "execution_count": null,
   "metadata": {},
   "outputs": [],
   "source": []
  }
 ],
 "metadata": {
  "kernelspec": {
   "display_name": "Ansible",
   "language": "ansible",
   "name": "ansible"
  },
  "language_info": {
   "codemirror_mode": "yaml",
   "file_extension": ".yml",
   "mimetype": "text/yaml",
   "name": "ansible"
  }
 },
 "nbformat": 4,
 "nbformat_minor": 2
}
